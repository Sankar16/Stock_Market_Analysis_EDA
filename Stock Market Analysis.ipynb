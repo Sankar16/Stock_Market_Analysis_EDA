{
 "cells": [
  {
   "cell_type": "markdown",
   "metadata": {},
   "source": [
    "# EXPLORATORY DATA ANALYSIS - STOCK MARKET ANALYSIS AND PREDICTION"
   ]
  },
  {
   "cell_type": "markdown",
   "metadata": {},
   "source": [
    "### Problem Statement: Analyze stock price trends and identify patterns that affect price fluctuations."
   ]
  },
  {
   "cell_type": "markdown",
   "metadata": {},
   "source": [
    "#### Dataset: Yahoo Finance API(yfinance) \n",
    "About Data set: This contains historical stock market data obtained from Yahoo Finance. This includes daily stock prices, trading volume, and other relevant metrics for a specific stock. The data is collected over a period. The dataset is used to analyze the stock's performance, identify trends, and make predictions about future stock."
   ]
  },
  {
   "cell_type": "markdown",
   "metadata": {},
   "source": [
    "### Column Name\tand Description:\n",
    "\n",
    "Date: The trading date (index in the dataset).\n",
    "\n",
    "Open: The price at which the stock opened on that day.\n",
    "\n",
    "High: The highest price reached during the trading session.\n",
    "\n",
    "Low: The lowest price reached during the trading session.\n",
    "\n",
    "Close: The price at which the stock closed for the day.\n",
    "\n",
    "Adj Close: The adjusted closing price after accounting for dividends and stock splits.\n",
    "\n",
    "Volume: The total number of shares traded on that day."
   ]
  },
  {
   "cell_type": "markdown",
   "metadata": {},
   "source": [
    "### Use cases:\n",
    "\n"
   ]
  },
  {
   "cell_type": "markdown",
   "metadata": {},
   "source": []
  }
 ],
 "metadata": {
  "language_info": {
   "name": "python"
  }
 },
 "nbformat": 4,
 "nbformat_minor": 2
}
